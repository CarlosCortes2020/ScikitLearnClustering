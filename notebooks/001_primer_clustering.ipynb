{
 "cells": [
  {
   "cell_type": "markdown",
   "metadata": {
    "id": "fzD1Jz4ZnAxi"
   },
   "source": [
    "# Primer clustering con scikit-learn\n",
    "\n",
    "[Curso de Clustering con Python y scikit-learn](https://platzi.com/cursos/clustering)"
   ]
  },
  {
   "cell_type": "markdown",
   "metadata": {
    "id": "vz-QFKkYnNp9"
   },
   "source": [
    "## Importar librerías y carga de datos de prueba"
   ]
  },
  {
   "cell_type": "code",
   "execution_count": null,
   "metadata": {
    "collapsed": true,
    "id": "MjQatiU-jugT"
   },
   "outputs": [],
   "source": [
    "#Cargamos las librearías necesarias\n",
    "import numpy as np\n",
    "from sklearn.datasets import make_blobs\n",
    "import pandas as pd\n",
    "import matplotlib.pyplot as plt"
   ]
  },
  {
   "cell_type": "code",
   "execution_count": 3,
   "metadata": {
    "id": "j6RvMSvdn4Hu"
   },
   "outputs": [],
   "source": [
    "#Generamos datos sintéticos para clustering\n",
    "x, y = make_blobs(n_samples=100, centers=4, n_features=2, cluster_std=[1,1.5,2,2], random_state=7)"
   ]
  },
  {
   "cell_type": "code",
   "execution_count": null,
   "metadata": {},
   "outputs": [
    {
     "data": {
      "text/plain": [
       "array([1, 3, 0, 1, 0, 1, 3, 2, 0, 3, 3, 2, 3, 0, 1, 3, 3, 2, 3, 0, 1, 0,\n",
       "       0, 3, 2, 0, 2, 2, 3, 1, 3, 3, 1, 3, 3, 0, 2, 0, 1, 0, 3, 1, 1, 2,\n",
       "       1, 2, 0, 0, 2, 0, 2, 3, 2, 3, 1, 0, 1, 3, 1, 1, 1, 3, 1, 2, 0, 2,\n",
       "       0, 2, 2, 1, 0, 2, 0, 0, 2, 2, 2, 2, 3, 1, 1, 1, 0, 3, 2, 3, 2, 0,\n",
       "       0, 1, 3, 1, 0, 3, 2, 2, 3, 1, 0, 1])"
      ]
     },
     "execution_count": 6,
     "metadata": {},
     "output_type": "execute_result"
    }
   ],
   "source": [
    "\n"
   ]
  },
  {
   "cell_type": "code",
   "execution_count": 4,
   "metadata": {
    "id": "FpcmDTALjugX",
    "pycharm": {
     "name": "#%%\n"
    }
   },
   "outputs": [],
   "source": [
    "#Creamos un DataFrame con los datos generados para facilitar su manejo\n",
    "df_blobs = pd.DataFrame({\n",
    "    'x1': x[:,0],\n",
    "    'x2':x[:,1], \n",
    "    'y':y\n",
    "\n",
    "})"
   ]
  },
  {
   "cell_type": "code",
   "execution_count": 7,
   "metadata": {
    "colab": {
     "base_uri": "https://localhost:8080/",
     "height": 423
    },
    "executionInfo": {
     "elapsed": 8,
     "status": "ok",
     "timestamp": 1660066053403,
     "user": {
      "displayName": "Carlos Alarcón",
      "userId": "15349885202925550395"
     },
     "user_tz": 300
    },
    "id": "mpL2GKf2pbX7",
    "outputId": "c5baf1ba-7756-47e5-f742-f5a9244b76b1"
   },
   "outputs": [
    {
     "data": {
      "application/vnd.microsoft.datawrangler.viewer.v0+json": {
       "columns": [
        {
         "name": "index",
         "rawType": "int64",
         "type": "integer"
        },
        {
         "name": "x1",
         "rawType": "float64",
         "type": "float"
        },
        {
         "name": "x2",
         "rawType": "float64",
         "type": "float"
        },
        {
         "name": "y",
         "rawType": "int64",
         "type": "integer"
        }
       ],
       "ref": "c7db6d4e-ffb6-4ffa-ab69-c99b6e29acaa",
       "rows": [
        [
         "0",
         "-3.384260570235461",
         "5.221739741390385",
         "1"
        ],
        [
         "1",
         "-1.8362383570137195",
         "-7.735383670572811",
         "3"
        ],
        [
         "2",
         "-7.4561762068573625",
         "6.198874360721843",
         "0"
        ],
        [
         "3",
         "-1.785043073853899",
         "1.6097487388231215",
         "1"
        ],
        [
         "4",
         "-10.124909801926695",
         "6.133805201128384",
         "0"
        ],
        [
         "5",
         "1.0146433022142456",
         "4.045350702505753",
         "1"
        ],
        [
         "6",
         "-0.7009273521311754",
         "-6.981968184570775",
         "3"
        ],
        [
         "7",
         "8.997574414305214",
         "-2.3022871842162758",
         "2"
        ],
        [
         "8",
         "-7.919253900628968",
         "5.722256750089331",
         "0"
        ],
        [
         "9",
         "1.9445622004257699",
         "-7.437422988334879",
         "3"
        ],
        [
         "10",
         "-0.9344264864103741",
         "-7.788204257015471",
         "3"
        ],
        [
         "11",
         "11.48819120871487",
         "1.3371902558782538",
         "2"
        ],
        [
         "12",
         "-2.8606781600781725",
         "-11.246234462585702",
         "3"
        ],
        [
         "13",
         "-7.905772325192874",
         "4.8455386483808285",
         "0"
        ],
        [
         "14",
         "-2.2422831522462405",
         "4.385502381543713",
         "1"
        ],
        [
         "15",
         "0.5692869090608063",
         "-10.05710880469582",
         "3"
        ],
        [
         "16",
         "0.623770103244574",
         "-6.120339564867511",
         "3"
        ],
        [
         "17",
         "8.325946341751107",
         "0.04535295136922646",
         "2"
        ],
        [
         "18",
         "-2.1193757427909836",
         "-10.183394495668248",
         "3"
        ],
        [
         "19",
         "-6.707673334591522",
         "5.268962092889228",
         "0"
        ],
        [
         "20",
         "-2.5285503585607483",
         "5.030859081225187",
         "1"
        ],
        [
         "21",
         "-8.199374288760893",
         "4.071851312932453",
         "0"
        ],
        [
         "22",
         "-8.860974155807245",
         "7.627448065563405",
         "0"
        ],
        [
         "23",
         "0.25552915266949483",
         "-12.266589075820182",
         "3"
        ],
        [
         "24",
         "7.092742352476927",
         "1.135718811438207",
         "2"
        ],
        [
         "25",
         "-8.519220242381502",
         "4.147697145655718",
         "0"
        ],
        [
         "26",
         "9.588768129884606",
         "-2.817380075392084",
         "2"
        ],
        [
         "27",
         "9.013024627440492",
         "-0.8770027598237136",
         "2"
        ],
        [
         "28",
         "2.4349736614304516",
         "-6.597863363128837",
         "3"
        ],
        [
         "29",
         "-1.2501786510917943",
         "4.355808364388224",
         "1"
        ],
        [
         "30",
         "-3.3443844140774197",
         "-6.528947461882989",
         "3"
        ],
        [
         "31",
         "-0.15955325886677815",
         "-6.65074691736064",
         "3"
        ],
        [
         "32",
         "-1.0688428139400343",
         "6.626662837719459",
         "1"
        ],
        [
         "33",
         "-1.611751220458937",
         "-8.174361935166932",
         "3"
        ],
        [
         "34",
         "2.187222792645187",
         "-10.17377269586309",
         "3"
        ],
        [
         "35",
         "-8.37240022730924",
         "5.8509535803576105",
         "0"
        ],
        [
         "36",
         "9.604279717013174",
         "-0.08821977890331056",
         "2"
        ],
        [
         "37",
         "-8.606211410087703",
         "5.288899504213412",
         "0"
        ],
        [
         "38",
         "-0.6085614497351137",
         "3.083986571548998",
         "1"
        ],
        [
         "39",
         "-8.204422582012969",
         "5.07377122540144",
         "0"
        ],
        [
         "40",
         "-3.0901660204986268",
         "-7.041526931695798",
         "3"
        ],
        [
         "41",
         "-1.3812313190244263",
         "7.018609501738846",
         "1"
        ],
        [
         "42",
         "-0.7338540479493822",
         "5.571843433184863",
         "1"
        ],
        [
         "43",
         "12.995250339252523",
         "-0.14633617756334516",
         "2"
        ],
        [
         "44",
         "2.1581051087572627",
         "5.772862550499562",
         "1"
        ],
        [
         "45",
         "9.736100089128843",
         "-1.903123691702715",
         "2"
        ],
        [
         "46",
         "-8.879062067948542",
         "3.3100607428305704",
         "0"
        ],
        [
         "47",
         "-7.6331009703773205",
         "5.418389443549943",
         "0"
        ],
        [
         "48",
         "11.67168683826113",
         "1.9016823854634852",
         "2"
        ],
        [
         "49",
         "-9.678054058120589",
         "7.060351472015817",
         "0"
        ]
       ],
       "shape": {
        "columns": 3,
        "rows": 100
       }
      },
      "text/html": [
       "<div>\n",
       "<style scoped>\n",
       "    .dataframe tbody tr th:only-of-type {\n",
       "        vertical-align: middle;\n",
       "    }\n",
       "\n",
       "    .dataframe tbody tr th {\n",
       "        vertical-align: top;\n",
       "    }\n",
       "\n",
       "    .dataframe thead th {\n",
       "        text-align: right;\n",
       "    }\n",
       "</style>\n",
       "<table border=\"1\" class=\"dataframe\">\n",
       "  <thead>\n",
       "    <tr style=\"text-align: right;\">\n",
       "      <th></th>\n",
       "      <th>x1</th>\n",
       "      <th>x2</th>\n",
       "      <th>y</th>\n",
       "    </tr>\n",
       "  </thead>\n",
       "  <tbody>\n",
       "    <tr>\n",
       "      <th>0</th>\n",
       "      <td>-3.384261</td>\n",
       "      <td>5.221740</td>\n",
       "      <td>1</td>\n",
       "    </tr>\n",
       "    <tr>\n",
       "      <th>1</th>\n",
       "      <td>-1.836238</td>\n",
       "      <td>-7.735384</td>\n",
       "      <td>3</td>\n",
       "    </tr>\n",
       "    <tr>\n",
       "      <th>2</th>\n",
       "      <td>-7.456176</td>\n",
       "      <td>6.198874</td>\n",
       "      <td>0</td>\n",
       "    </tr>\n",
       "    <tr>\n",
       "      <th>3</th>\n",
       "      <td>-1.785043</td>\n",
       "      <td>1.609749</td>\n",
       "      <td>1</td>\n",
       "    </tr>\n",
       "    <tr>\n",
       "      <th>4</th>\n",
       "      <td>-10.124910</td>\n",
       "      <td>6.133805</td>\n",
       "      <td>0</td>\n",
       "    </tr>\n",
       "    <tr>\n",
       "      <th>...</th>\n",
       "      <td>...</td>\n",
       "      <td>...</td>\n",
       "      <td>...</td>\n",
       "    </tr>\n",
       "    <tr>\n",
       "      <th>95</th>\n",
       "      <td>7.072755</td>\n",
       "      <td>-0.259937</td>\n",
       "      <td>2</td>\n",
       "    </tr>\n",
       "    <tr>\n",
       "      <th>96</th>\n",
       "      <td>-2.626873</td>\n",
       "      <td>-7.228570</td>\n",
       "      <td>3</td>\n",
       "    </tr>\n",
       "    <tr>\n",
       "      <th>97</th>\n",
       "      <td>-1.521099</td>\n",
       "      <td>1.802284</td>\n",
       "      <td>1</td>\n",
       "    </tr>\n",
       "    <tr>\n",
       "      <th>98</th>\n",
       "      <td>-9.216388</td>\n",
       "      <td>6.670846</td>\n",
       "      <td>0</td>\n",
       "    </tr>\n",
       "    <tr>\n",
       "      <th>99</th>\n",
       "      <td>-1.681382</td>\n",
       "      <td>6.414631</td>\n",
       "      <td>1</td>\n",
       "    </tr>\n",
       "  </tbody>\n",
       "</table>\n",
       "<p>100 rows × 3 columns</p>\n",
       "</div>"
      ],
      "text/plain": [
       "           x1        x2  y\n",
       "0   -3.384261  5.221740  1\n",
       "1   -1.836238 -7.735384  3\n",
       "2   -7.456176  6.198874  0\n",
       "3   -1.785043  1.609749  1\n",
       "4  -10.124910  6.133805  0\n",
       "..        ...       ... ..\n",
       "95   7.072755 -0.259937  2\n",
       "96  -2.626873 -7.228570  3\n",
       "97  -1.521099  1.802284  1\n",
       "98  -9.216388  6.670846  0\n",
       "99  -1.681382  6.414631  1\n",
       "\n",
       "[100 rows x 3 columns]"
      ]
     },
     "execution_count": 7,
     "metadata": {},
     "output_type": "execute_result"
    }
   ],
   "source": [
    "df_blobs"
   ]
  },
  {
   "cell_type": "code",
   "execution_count": 8,
   "metadata": {
    "id": "GtnxxFgOphvA"
   },
   "outputs": [],
   "source": [
    "#Función para graficar clusters en 2D, esto nos servirá para visualizar los resultados de los algoritmos de clustering\n",
    "def plot_2d_clusters(x,y,ax):\n",
    "    y_uniques = pd.Series(y).unique()\n",
    "\n",
    "    for _ in y_uniques:\n",
    "        x[y==_].plot(\n",
    "            title=f'{len(y_uniques)} Clusters',\n",
    "            kind='scatter',\n",
    "            x='x1',\n",
    "            y='x2',\n",
    "            marker = f'${_}$',\n",
    "            ax = ax\n",
    "        )"
   ]
  },
  {
   "cell_type": "code",
   "execution_count": 15,
   "metadata": {
    "colab": {
     "base_uri": "https://localhost:8080/",
     "height": 621
    },
    "executionInfo": {
     "elapsed": 976,
     "status": "ok",
     "timestamp": 1660066399535,
     "user": {
      "displayName": "Carlos Alarcón",
      "userId": "15349885202925550395"
     },
     "user_tz": 300
    },
    "id": "1pi_Bq2dqYsd",
    "outputId": "74559702-c044-4bbf-b8e5-598e2cc2493c"
   },
   "outputs": [
    {
     "data": {
      "image/png": "[encoded data removed]",
      "text/plain": [
       "<Figure size 1500x1000 with 1 Axes>"
      ]
     },
     "metadata": {},
     "output_type": "display_data"
    }
   ],
   "source": [
    "fig, ax = plt.subplots(1,1, figsize=(15,10))\n",
    "x, y = df_blobs[['x1','x2']], df_blobs['y']\n",
    "plot_2d_clusters(x,y,ax)"
   ]
  },
  {
   "cell_type": "markdown",
   "metadata": {
    "id": "ACOk5xy-nWLp"
   },
   "source": [
    "## Aplicando clustering"
   ]
  },
  {
   "cell_type": "code",
   "execution_count": 17,
   "metadata": {
    "id": "ioUYacAdjugX",
    "pycharm": {
     "name": "#%%\n"
    }
   },
   "outputs": [],
   "source": [
    "#Cargamos la librería del algoritmo KMeans\n",
    "\n",
    "from sklearn.cluster import KMeans"
   ]
  },
  {
   "cell_type": "code",
   "execution_count": 23,
   "metadata": {
    "id": "7rPKKi3pjugY",
    "pycharm": {
     "name": "#%%\n"
    }
   },
   "outputs": [],
   "source": [
    "kmeans = KMeans(n_clusters=5, random_state=42)"
   ]
  },
  {
   "cell_type": "code",
   "execution_count": 24,
   "metadata": {
    "id": "6PJ0A7WQjugZ",
    "pycharm": {
     "name": "#%%\n"
    }
   },
   "outputs": [],
   "source": [
    "y_pred = kmeans.fit_predict(x)"
   ]
  },
  {
   "cell_type": "code",
   "execution_count": null,
   "metadata": {
    "colab": {
     "base_uri": "https://localhost:8080/",
     "height": 740
    },
    "executionInfo": {
     "elapsed": 669,
     "status": "ok",
     "timestamp": 1660066816334,
     "user": {
      "displayName": "Carlos Alarcón",
      "userId": "15349885202925550395"
     },
     "user_tz": 300
    },
    "id": "3qPslFpzrZAH",
    "outputId": "8e82afa1-b84d-473a-a872-7df5466c5801"
   },
   "outputs": [
    {
     "data": {
      "text/plain": [
       "Text(0.5, 1.0, 'Kmeans 5 Clusters')"
      ]
     },
     "execution_count": 25,
     "metadata": {},
     "output_type": "execute_result"
    },
    {
     "data": {
      "image/png": "[encoded data removed]",
      "text/plain": [
       "<Figure size 2000x1200 with 2 Axes>"
      ]
     },
     "metadata": {},
     "output_type": "display_data"
    }
   ],
   "source": [
    "\n",
    "fig, axs = plt.subplots(1,2, figsize=(20,12))\n",
    "plot_2d_clusters(x,y,axs[0])\n",
    "plot_2d_clusters(x,y_pred,axs[1])\n",
    "\n",
    "axs[0].set_title(f'Actual {axs[0].get_title()}')\n",
    "axs[1].set_title(f'Kmeans {axs[1].get_title()}')\n",
    "\n"
   ]
  }
 ],
 "metadata": {
  "colab": {
   "provenance": []
  },
  "kernelspec": {
   "display_name": "ScikitLearnClustering",
   "language": "python",
   "name": "python3"
  },
  "language_info": {
   "codemirror_mode": {
    "name": "ipython",
    "version": 3
   },
   "file_extension": ".py",
   "mimetype": "text/x-python",
   "name": "python",
   "nbconvert_exporter": "python",
   "pygments_lexer": "ipython3",
   "version": "3.13.7"
  }
 },
 "nbformat": 4,
 "nbformat_minor": 0
}
